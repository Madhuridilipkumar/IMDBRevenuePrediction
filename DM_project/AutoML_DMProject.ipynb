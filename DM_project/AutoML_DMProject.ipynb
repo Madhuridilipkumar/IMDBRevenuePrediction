{
 "cells": [
  {
   "cell_type": "markdown",
   "metadata": {},
   "source": [
    "# AutoML using H2O\n",
    "Import the h2o Python module and H2OAutoML class and initialize a local H2O cluster."
   ]
  },
  {
   "cell_type": "code",
   "execution_count": 79,
   "metadata": {},
   "outputs": [
    {
     "name": "stdout",
     "output_type": "stream",
     "text": [
      "Checking whether there is an H2O instance running at http://localhost:54321. connected.\n"
     ]
    },
    {
     "data": {
      "text/html": [
       "<div style=\"overflow:auto\"><table style=\"width:50%\"><tr><td>H2O cluster uptime:</td>\n",
       "<td>1 day 9 hours 47 mins</td></tr>\n",
       "<tr><td>H2O cluster timezone:</td>\n",
       "<td>America/Los_Angeles</td></tr>\n",
       "<tr><td>H2O data parsing timezone:</td>\n",
       "<td>UTC</td></tr>\n",
       "<tr><td>H2O cluster version:</td>\n",
       "<td>3.22.0.2</td></tr>\n",
       "<tr><td>H2O cluster version age:</td>\n",
       "<td>29 days </td></tr>\n",
       "<tr><td>H2O cluster name:</td>\n",
       "<td>H2O_from_python_madhuridilipkumar_bokjnb</td></tr>\n",
       "<tr><td>H2O cluster total nodes:</td>\n",
       "<td>1</td></tr>\n",
       "<tr><td>H2O cluster free memory:</td>\n",
       "<td>1.398 Gb</td></tr>\n",
       "<tr><td>H2O cluster total cores:</td>\n",
       "<td>4</td></tr>\n",
       "<tr><td>H2O cluster allowed cores:</td>\n",
       "<td>4</td></tr>\n",
       "<tr><td>H2O cluster status:</td>\n",
       "<td>locked, healthy</td></tr>\n",
       "<tr><td>H2O connection url:</td>\n",
       "<td>http://localhost:54321</td></tr>\n",
       "<tr><td>H2O connection proxy:</td>\n",
       "<td>None</td></tr>\n",
       "<tr><td>H2O internal security:</td>\n",
       "<td>False</td></tr>\n",
       "<tr><td>H2O API Extensions:</td>\n",
       "<td>XGBoost, Algos, AutoML, Core V3, Core V4</td></tr>\n",
       "<tr><td>Python version:</td>\n",
       "<td>3.6.6 final</td></tr></table></div>"
      ],
      "text/plain": [
       "--------------------------  ----------------------------------------\n",
       "H2O cluster uptime:         1 day 9 hours 47 mins\n",
       "H2O cluster timezone:       America/Los_Angeles\n",
       "H2O data parsing timezone:  UTC\n",
       "H2O cluster version:        3.22.0.2\n",
       "H2O cluster version age:    29 days\n",
       "H2O cluster name:           H2O_from_python_madhuridilipkumar_bokjnb\n",
       "H2O cluster total nodes:    1\n",
       "H2O cluster free memory:    1.398 Gb\n",
       "H2O cluster total cores:    4\n",
       "H2O cluster allowed cores:  4\n",
       "H2O cluster status:         locked, healthy\n",
       "H2O connection url:         http://localhost:54321\n",
       "H2O connection proxy:\n",
       "H2O internal security:      False\n",
       "H2O API Extensions:         XGBoost, Algos, AutoML, Core V3, Core V4\n",
       "Python version:             3.6.6 final\n",
       "--------------------------  ----------------------------------------"
      ]
     },
     "metadata": {},
     "output_type": "display_data"
    }
   ],
   "source": [
    "import h2o\n",
    "from h2o.automl import H2OAutoML\n",
    "h2o.init()"
   ]
  },
  {
   "cell_type": "code",
   "execution_count": 80,
   "metadata": {},
   "outputs": [
    {
     "name": "stdout",
     "output_type": "stream",
     "text": [
      "Parse progress: |█████████████████████████████████████████████████████████| 100%\n"
     ]
    }
   ],
   "source": [
    "# Use local data file \n",
    "import os\n",
    "\n",
    "data_path = \"/Users/madhuridilipkumar/Desktop/DM_project/movie.csv\"\n",
    "\n",
    "\n",
    "# Load data into H2O\n",
    "hf = h2o.import_file(data_path)"
   ]
  },
  {
   "cell_type": "code",
   "execution_count": 81,
   "metadata": {
    "scrolled": true
   },
   "outputs": [
    {
     "name": "stdout",
     "output_type": "stream",
     "text": [
      "Rows:3596\n",
      "Cols:28\n",
      "\n",
      "\n"
     ]
    },
    {
     "data": {
      "text/html": [
       "<table>\n",
       "<thead>\n",
       "<tr><th>       </th><th>color  </th><th>director_name    </th><th>num_critic_for_reviews  </th><th>duration          </th><th>director_facebook_likes  </th><th>actor_3_facebook_likes  </th><th>actor_2_name     </th><th>actor_1_facebook_likes  </th><th>gross             </th><th>genres                                                   </th><th>actor_1_name   </th><th>movie_title                              </th><th>num_voted_users   </th><th>cast_total_facebook_likes  </th><th>actor_3_name        </th><th>facenumber_in_poster  </th><th>plot_keywords                                                                                  </th><th>movie_imdb_link                                     </th><th>num_user_for_reviews  </th><th>language  </th><th>country  </th><th>content_rating  </th><th>budget           </th><th>title_year        </th><th>actor_2_facebook_likes  </th><th>imdb_score        </th><th>aspect_ratio      </th><th>movie_facebook_likes  </th></tr>\n",
       "</thead>\n",
       "<tbody>\n",
       "<tr><td>type   </td><td>enum   </td><td>enum             </td><td>int                     </td><td>int               </td><td>int                      </td><td>int                     </td><td>enum             </td><td>int                     </td><td>int               </td><td>enum                                                     </td><td>enum           </td><td>string                                   </td><td>int               </td><td>int                        </td><td>enum                </td><td>int                   </td><td>string                                                                                         </td><td>string                                              </td><td>int                   </td><td>enum      </td><td>enum     </td><td>enum            </td><td>int              </td><td>int               </td><td>int                     </td><td>real              </td><td>real              </td><td>int                   </td></tr>\n",
       "<tr><td>mins   </td><td>       </td><td>                 </td><td>1.0                     </td><td>7.0               </td><td>0.0                      </td><td>0.0                     </td><td>                 </td><td>0.0                     </td><td>162.0             </td><td>                                                         </td><td>               </td><td>NaN                                      </td><td>5.0               </td><td>0.0                        </td><td>                    </td><td>0.0                   </td><td>NaN                                                                                            </td><td>NaN                                                 </td><td>1.0                   </td><td>          </td><td>         </td><td>                </td><td>218.0            </td><td>2000.0            </td><td>0.0                     </td><td>1.6               </td><td>1.33              </td><td>0.0                   </td></tr>\n",
       "<tr><td>mean   </td><td>       </td><td>                 </td><td>164.14221472737492      </td><td>106.34402901785714</td><td>560.8439933259177        </td><td>724.2296089385475       </td><td>                 </td><td>7203.726386179996       </td><td>48848305.844299674</td><td>                                                         </td><td>               </td><td>NaN                                      </td><td>84693.34232480534 </td><td>10659.144048943272         </td><td>                    </td><td>1.4386160714285716    </td><td>NaN                                                                                            </td><td>NaN                                                 </td><td>284.61184026808155    </td><td>          </td><td>         </td><td>                </td><td>44804427.22140448</td><td>2008.1162402669634</td><td>1845.0722253206916      </td><td>6.31198553948832  </td><td>2.1805031636034946</td><td>9433.835094549502     </td></tr>\n",
       "<tr><td>maxs   </td><td>       </td><td>                 </td><td>813.0                   </td><td>300.0             </td><td>23000.0                  </td><td>23000.0                 </td><td>                 </td><td>640000.0                </td><td>760505847.0       </td><td>                                                         </td><td>               </td><td>NaN                                      </td><td>1676169.0         </td><td>656730.0                   </td><td>                    </td><td>43.0                  </td><td>NaN                                                                                            </td><td>NaN                                                 </td><td>5060.0                </td><td>          </td><td>         </td><td>                </td><td>12215500000.0    </td><td>2016.0            </td><td>137000.0                </td><td>9.1               </td><td>16.0              </td><td>349000.0              </td></tr>\n",
       "<tr><td>sigma  </td><td>       </td><td>                 </td><td>131.13624463982757      </td><td>20.115940890979562</td><td>2528.838736799954        </td><td>1890.7079457854784      </td><td>                 </td><td>16925.49533034773       </td><td>70884486.33028735 </td><td>                                                         </td><td>               </td><td>NaN                                      </td><td>133012.20190137826</td><td>20318.83768590337          </td><td>                    </td><td>2.1403774460171747    </td><td>NaN                                                                                            </td><td>NaN                                                 </td><td>393.4889081007449     </td><td>          </td><td>         </td><td>                </td><td>237461634.0653688</td><td>4.658263525528673 </td><td>4433.289052021184       </td><td>1.1137593649516664</td><td>0.8730007314946014</td><td>22052.65494698153     </td></tr>\n",
       "<tr><td>zeros  </td><td>       </td><td>                 </td><td>0                       </td><td>0                 </td><td>631                      </td><td>75                      </td><td>                 </td><td>23                      </td><td>0                 </td><td>                                                         </td><td>               </td><td>0                                        </td><td>0                 </td><td>30                         </td><td>                    </td><td>1521                  </td><td>0                                                                                              </td><td>0                                                   </td><td>0                     </td><td>          </td><td>         </td><td>                </td><td>0                </td><td>0                 </td><td>48                      </td><td>0                 </td><td>0                 </td><td>1471                  </td></tr>\n",
       "<tr><td>missing</td><td>14     </td><td>0                </td><td>38                      </td><td>12                </td><td>0                        </td><td>16                      </td><td>10               </td><td>7                       </td><td>526               </td><td>0                                                        </td><td>7              </td><td>0                                        </td><td>0                 </td><td>0                          </td><td>16                  </td><td>12                    </td><td>139                                                                                            </td><td>0                                                   </td><td>15                    </td><td>5         </td><td>1        </td><td>238             </td><td>335              </td><td>0                 </td><td>10                      </td><td>0                 </td><td>277               </td><td>0                     </td></tr>\n",
       "<tr><td>0      </td><td>Color  </td><td>James Cameron    </td><td>723.0                   </td><td>178.0             </td><td>0.0                      </td><td>855.0                   </td><td>Joel David Moore </td><td>1000.0                  </td><td>760505847.0       </td><td>Action|Adventure|Fantasy|Sci-Fi                          </td><td>CCH Pounder    </td><td>AvatarÂ                                  </td><td>886204.0          </td><td>4834.0                     </td><td>Wes Studi           </td><td>0.0                   </td><td>avatar|future|marine|native|paraplegic                                                         </td><td>http://www.imdb.com/title/tt0499549/?ref_=fn_tt_tt_1</td><td>3054.0                </td><td>English   </td><td>USA      </td><td>PG-13           </td><td>237000000.0      </td><td>2009.0            </td><td>936.0                   </td><td>7.9               </td><td>1.78              </td><td>33000.0               </td></tr>\n",
       "<tr><td>1      </td><td>Color  </td><td>Gore Verbinski   </td><td>302.0                   </td><td>169.0             </td><td>563.0                    </td><td>1000.0                  </td><td>Orlando Bloom    </td><td>40000.0                 </td><td>309404152.0       </td><td>Action|Adventure|Fantasy                                 </td><td>Johnny Depp    </td><td>Pirates of the Caribbean: At World's EndÂ</td><td>471220.0          </td><td>48350.0                    </td><td>Jack Davenport      </td><td>0.0                   </td><td>goddess|marriage ceremony|marriage proposal|pirate|singapore                                   </td><td>http://www.imdb.com/title/tt0449088/?ref_=fn_tt_tt_1</td><td>1238.0                </td><td>English   </td><td>USA      </td><td>PG-13           </td><td>300000000.0      </td><td>2007.0            </td><td>5000.0                  </td><td>7.1               </td><td>2.35              </td><td>0.0                   </td></tr>\n",
       "<tr><td>2      </td><td>Color  </td><td>Sam Mendes       </td><td>602.0                   </td><td>148.0             </td><td>0.0                      </td><td>161.0                   </td><td>Rory Kinnear     </td><td>11000.0                 </td><td>200074175.0       </td><td>Action|Adventure|Thriller                                </td><td>Christoph Waltz</td><td>SpectreÂ                                 </td><td>275868.0          </td><td>11700.0                    </td><td>Stephanie Sigman    </td><td>1.0                   </td><td>bomb|espionage|sequel|spy|terrorist                                                            </td><td>http://www.imdb.com/title/tt2379713/?ref_=fn_tt_tt_1</td><td>994.0                 </td><td>English   </td><td>UK       </td><td>PG-13           </td><td>245000000.0      </td><td>2015.0            </td><td>393.0                   </td><td>6.8               </td><td>2.35              </td><td>85000.0               </td></tr>\n",
       "<tr><td>3      </td><td>Color  </td><td>Christopher Nolan</td><td>813.0                   </td><td>164.0             </td><td>22000.0                  </td><td>23000.0                 </td><td>Christian Bale   </td><td>27000.0                 </td><td>448130642.0       </td><td>Action|Thriller                                          </td><td>Tom Hardy      </td><td>The Dark Knight RisesÂ                   </td><td>1144337.0         </td><td>106759.0                   </td><td>Joseph Gordon-Levitt</td><td>0.0                   </td><td>deception|imprisonment|lawlessness|police officer|terrorist plot                               </td><td>http://www.imdb.com/title/tt1345836/?ref_=fn_tt_tt_1</td><td>2701.0                </td><td>English   </td><td>USA      </td><td>PG-13           </td><td>250000000.0      </td><td>2012.0            </td><td>23000.0                 </td><td>8.5               </td><td>2.35              </td><td>164000.0              </td></tr>\n",
       "<tr><td>4      </td><td>Color  </td><td>Andrew Stanton   </td><td>462.0                   </td><td>132.0             </td><td>475.0                    </td><td>530.0                   </td><td>Samantha Morton  </td><td>640.0                   </td><td>73058679.0        </td><td>Action|Adventure|Sci-Fi                                  </td><td>Daryl Sabara   </td><td>John CarterÂ                             </td><td>212204.0          </td><td>1873.0                     </td><td>Polly Walker        </td><td>1.0                   </td><td>alien|american civil war|male nipple|mars|princess                                             </td><td>http://www.imdb.com/title/tt0401729/?ref_=fn_tt_tt_1</td><td>738.0                 </td><td>English   </td><td>USA      </td><td>PG-13           </td><td>263700000.0      </td><td>2012.0            </td><td>632.0                   </td><td>6.6               </td><td>2.35              </td><td>24000.0               </td></tr>\n",
       "<tr><td>5      </td><td>Color  </td><td>Sam Raimi        </td><td>392.0                   </td><td>156.0             </td><td>0.0                      </td><td>4000.0                  </td><td>James Franco     </td><td>24000.0                 </td><td>336530303.0       </td><td>Action|Adventure|Romance                                 </td><td>J.K. Simmons   </td><td>Spider-Man 3Â                            </td><td>383056.0          </td><td>46055.0                    </td><td>Kirsten Dunst       </td><td>0.0                   </td><td>sandman|spider man|symbiote|venom|villain                                                      </td><td>http://www.imdb.com/title/tt0413300/?ref_=fn_tt_tt_1</td><td>1902.0                </td><td>English   </td><td>USA      </td><td>PG-13           </td><td>258000000.0      </td><td>2007.0            </td><td>11000.0                 </td><td>6.2               </td><td>2.35              </td><td>0.0                   </td></tr>\n",
       "<tr><td>6      </td><td>Color  </td><td>Nathan Greno     </td><td>324.0                   </td><td>100.0             </td><td>15.0                     </td><td>284.0                   </td><td>Donna Murphy     </td><td>799.0                   </td><td>200807262.0       </td><td>Adventure|Animation|Comedy|Family|Fantasy|Musical|Romance</td><td>Brad Garrett   </td><td>TangledÂ                                 </td><td>294810.0          </td><td>2036.0                     </td><td>M.C. Gainey         </td><td>1.0                   </td><td>17th century|based on fairy tale|disney|flower|tower                                           </td><td>http://www.imdb.com/title/tt0398286/?ref_=fn_tt_tt_1</td><td>387.0                 </td><td>English   </td><td>USA      </td><td>PG              </td><td>260000000.0      </td><td>2010.0            </td><td>553.0                   </td><td>7.8               </td><td>1.85              </td><td>29000.0               </td></tr>\n",
       "<tr><td>7      </td><td>Color  </td><td>Joss Whedon      </td><td>635.0                   </td><td>141.0             </td><td>0.0                      </td><td>19000.0                 </td><td>Robert Downey Jr.</td><td>26000.0                 </td><td>458991599.0       </td><td>Action|Adventure|Sci-Fi                                  </td><td>Chris Hemsworth</td><td>Avengers: Age of UltronÂ                 </td><td>462669.0          </td><td>92000.0                    </td><td>Scarlett Johansson  </td><td>4.0                   </td><td>artificial intelligence|based on comic book|captain america|marvel cinematic universe|superhero</td><td>http://www.imdb.com/title/tt2395427/?ref_=fn_tt_tt_1</td><td>1117.0                </td><td>English   </td><td>USA      </td><td>PG-13           </td><td>250000000.0      </td><td>2015.0            </td><td>21000.0                 </td><td>7.5               </td><td>2.35              </td><td>118000.0              </td></tr>\n",
       "<tr><td>8      </td><td>Color  </td><td>David Yates      </td><td>375.0                   </td><td>153.0             </td><td>282.0                    </td><td>10000.0                 </td><td>Daniel Radcliffe </td><td>25000.0                 </td><td>301956980.0       </td><td>Adventure|Family|Fantasy|Mystery                         </td><td>Alan Rickman   </td><td>Harry Potter and the Half-Blood PrinceÂ  </td><td>321795.0          </td><td>58753.0                    </td><td>Rupert Grint        </td><td>3.0                   </td><td>blood|book|love|potion|professor                                                               </td><td>http://www.imdb.com/title/tt0417741/?ref_=fn_tt_tt_1</td><td>973.0                 </td><td>English   </td><td>UK       </td><td>PG              </td><td>250000000.0      </td><td>2009.0            </td><td>11000.0                 </td><td>7.5               </td><td>2.35              </td><td>10000.0               </td></tr>\n",
       "<tr><td>9      </td><td>Color  </td><td>Zack Snyder      </td><td>673.0                   </td><td>183.0             </td><td>0.0                      </td><td>2000.0                  </td><td>Lauren Cohan     </td><td>15000.0                 </td><td>330249062.0       </td><td>Action|Adventure|Sci-Fi                                  </td><td>Henry Cavill   </td><td>Batman v Superman: Dawn of JusticeÂ      </td><td>371639.0          </td><td>24450.0                    </td><td>Alan D. Purwin      </td><td>0.0                   </td><td>based on comic book|batman|sequel to a reboot|superhero|superman                               </td><td>http://www.imdb.com/title/tt2975590/?ref_=fn_tt_tt_1</td><td>3018.0                </td><td>English   </td><td>USA      </td><td>PG-13           </td><td>250000000.0      </td><td>2016.0            </td><td>4000.0                  </td><td>6.9               </td><td>2.35              </td><td>197000.0              </td></tr>\n",
       "</tbody>\n",
       "</table>"
      ]
     },
     "metadata": {},
     "output_type": "display_data"
    }
   ],
   "source": [
    "hf.describe()"
   ]
  },
  {
   "cell_type": "code",
   "execution_count": 82,
   "metadata": {},
   "outputs": [],
   "source": [
    "y = \"gross\"\n",
    "x = hf.columns\n",
    "x.remove(\"gross\")"
   ]
  },
  {
   "cell_type": "markdown",
   "metadata": {},
   "source": [
    "# AutoML"
   ]
  },
  {
   "cell_type": "markdown",
   "metadata": {},
   "source": [
    "Run AutoML, stopping after 10 models. The max_models argument specifies the number of individual (or \"base\") models, and does not include the two ensemble models that are trained at the end."
   ]
  },
  {
   "cell_type": "code",
   "execution_count": 83,
   "metadata": {},
   "outputs": [
    {
     "name": "stdout",
     "output_type": "stream",
     "text": [
      "AutoML progress: |████████████████████████████████████████████████████████| 100%\n"
     ]
    }
   ],
   "source": [
    "aml = H2OAutoML(max_models = 10, seed = 1)\n",
    "aml.train(x = x, y = y, training_frame = hf)"
   ]
  },
  {
   "cell_type": "markdown",
   "metadata": {},
   "source": [
    "# Leaderboard\n"
   ]
  },
  {
   "cell_type": "markdown",
   "metadata": {},
   "source": [
    "Next, we will view the AutoML Leaderboard. Since we did not specify a leaderboard_frame in the H2OAutoML.train() method for scoring and ranking the models, the AutoML leaderboard uses cross-validation metrics to rank the models.\n",
    "\n",
    "A default performance metric for each machine learning task (binary classification, multiclass classification, regression) is specified internally and the leaderboard will be sorted by that metric. In the case of binary classification, the default ranking metric is Area Under the ROC Curve (AUC). In the future, the user will be able to specify any of the H2O metrics so that different metrics can be used to generate rankings on the leaderboard.\n",
    "\n",
    "The leader model is stored at aml.leader and the leaderboard is stored at aml.leaderboard."
   ]
  },
  {
   "cell_type": "code",
   "execution_count": 84,
   "metadata": {},
   "outputs": [],
   "source": [
    "lb = aml.leaderboard"
   ]
  },
  {
   "cell_type": "code",
   "execution_count": 85,
   "metadata": {},
   "outputs": [
    {
     "data": {
      "text/html": [
       "<table>\n",
       "<thead>\n",
       "<tr><th>model_id                                 </th><th style=\"text-align: right;\">  mean_residual_deviance</th><th style=\"text-align: right;\">       rmse</th><th style=\"text-align: right;\">        mse</th><th style=\"text-align: right;\">        mae</th><th style=\"text-align: right;\">    rmsle</th></tr>\n",
       "</thead>\n",
       "<tbody>\n",
       "<tr><td>XRT_1_AutoML_20181222_011454             </td><td style=\"text-align: right;\">             1.35966e+15</td><td style=\"text-align: right;\">3.68736e+07</td><td style=\"text-align: right;\">1.35966e+15</td><td style=\"text-align: right;\">2.18271e+07</td><td style=\"text-align: right;\">  1.88406</td></tr>\n",
       "<tr><td>GBM_1_AutoML_20181222_011454             </td><td style=\"text-align: right;\">             1.47328e+15</td><td style=\"text-align: right;\">3.83834e+07</td><td style=\"text-align: right;\">1.47328e+15</td><td style=\"text-align: right;\">2.15028e+07</td><td style=\"text-align: right;\">nan      </td></tr>\n",
       "<tr><td>GBM_2_AutoML_20181222_011454             </td><td style=\"text-align: right;\">             1.49284e+15</td><td style=\"text-align: right;\">3.86372e+07</td><td style=\"text-align: right;\">1.49284e+15</td><td style=\"text-align: right;\">2.15974e+07</td><td style=\"text-align: right;\">nan      </td></tr>\n",
       "<tr><td>GBM_3_AutoML_20181222_011454             </td><td style=\"text-align: right;\">             1.50825e+15</td><td style=\"text-align: right;\">3.88361e+07</td><td style=\"text-align: right;\">1.50825e+15</td><td style=\"text-align: right;\">2.16292e+07</td><td style=\"text-align: right;\">nan      </td></tr>\n",
       "<tr><td>GBM_4_AutoML_20181222_011454             </td><td style=\"text-align: right;\">             1.51001e+15</td><td style=\"text-align: right;\">3.88589e+07</td><td style=\"text-align: right;\">1.51001e+15</td><td style=\"text-align: right;\">2.14388e+07</td><td style=\"text-align: right;\">nan      </td></tr>\n",
       "<tr><td>DeepLearning_1_AutoML_20181222_011454    </td><td style=\"text-align: right;\">             1.60099e+15</td><td style=\"text-align: right;\">4.00124e+07</td><td style=\"text-align: right;\">1.60099e+15</td><td style=\"text-align: right;\">2.52464e+07</td><td style=\"text-align: right;\">nan      </td></tr>\n",
       "<tr><td>DRF_1_AutoML_20181222_011454             </td><td style=\"text-align: right;\">             1.63437e+15</td><td style=\"text-align: right;\">4.04273e+07</td><td style=\"text-align: right;\">1.63437e+15</td><td style=\"text-align: right;\">2.22624e+07</td><td style=\"text-align: right;\">  1.72738</td></tr>\n",
       "<tr><td>GBM_5_AutoML_20181222_011454             </td><td style=\"text-align: right;\">             1.73445e+15</td><td style=\"text-align: right;\">4.16467e+07</td><td style=\"text-align: right;\">1.73445e+15</td><td style=\"text-align: right;\">2.38189e+07</td><td style=\"text-align: right;\">nan      </td></tr>\n",
       "<tr><td>GBM_grid_1_AutoML_20181222_011454_model_1</td><td style=\"text-align: right;\">             4.8369e+15 </td><td style=\"text-align: right;\">6.95478e+07</td><td style=\"text-align: right;\">4.8369e+15 </td><td style=\"text-align: right;\">4.5378e+07 </td><td style=\"text-align: right;\">  2.80177</td></tr>\n",
       "<tr><td>GLM_grid_1_AutoML_20181222_011454_model_1</td><td style=\"text-align: right;\">             5.00024e+15</td><td style=\"text-align: right;\">7.07123e+07</td><td style=\"text-align: right;\">5.00024e+15</td><td style=\"text-align: right;\">4.62526e+07</td><td style=\"text-align: right;\">  2.81789</td></tr>\n",
       "</tbody>\n",
       "</table>"
      ]
     },
     "metadata": {},
     "output_type": "display_data"
    },
    {
     "data": {
      "text/plain": []
     },
     "execution_count": 85,
     "metadata": {},
     "output_type": "execute_result"
    }
   ],
   "source": [
    "aml.leaderboard.head()\n"
   ]
  },
  {
   "cell_type": "code",
   "execution_count": 86,
   "metadata": {},
   "outputs": [
    {
     "data": {
      "text/html": [
       "<table>\n",
       "<thead>\n",
       "<tr><th>model_id                                           </th><th style=\"text-align: right;\">  mean_residual_deviance</th><th style=\"text-align: right;\">       rmse</th><th style=\"text-align: right;\">        mse</th><th style=\"text-align: right;\">        mae</th><th style=\"text-align: right;\">    rmsle</th></tr>\n",
       "</thead>\n",
       "<tbody>\n",
       "<tr><td>XRT_1_AutoML_20181222_011454                       </td><td style=\"text-align: right;\">             1.35966e+15</td><td style=\"text-align: right;\">3.68736e+07</td><td style=\"text-align: right;\">1.35966e+15</td><td style=\"text-align: right;\">2.18271e+07</td><td style=\"text-align: right;\">  1.88406</td></tr>\n",
       "<tr><td>GBM_1_AutoML_20181222_011454                       </td><td style=\"text-align: right;\">             1.47328e+15</td><td style=\"text-align: right;\">3.83834e+07</td><td style=\"text-align: right;\">1.47328e+15</td><td style=\"text-align: right;\">2.15028e+07</td><td style=\"text-align: right;\">nan      </td></tr>\n",
       "<tr><td>GBM_2_AutoML_20181222_011454                       </td><td style=\"text-align: right;\">             1.49284e+15</td><td style=\"text-align: right;\">3.86372e+07</td><td style=\"text-align: right;\">1.49284e+15</td><td style=\"text-align: right;\">2.15974e+07</td><td style=\"text-align: right;\">nan      </td></tr>\n",
       "<tr><td>GBM_3_AutoML_20181222_011454                       </td><td style=\"text-align: right;\">             1.50825e+15</td><td style=\"text-align: right;\">3.88361e+07</td><td style=\"text-align: right;\">1.50825e+15</td><td style=\"text-align: right;\">2.16292e+07</td><td style=\"text-align: right;\">nan      </td></tr>\n",
       "<tr><td>GBM_4_AutoML_20181222_011454                       </td><td style=\"text-align: right;\">             1.51001e+15</td><td style=\"text-align: right;\">3.88589e+07</td><td style=\"text-align: right;\">1.51001e+15</td><td style=\"text-align: right;\">2.14388e+07</td><td style=\"text-align: right;\">nan      </td></tr>\n",
       "<tr><td>DeepLearning_1_AutoML_20181222_011454              </td><td style=\"text-align: right;\">             1.60099e+15</td><td style=\"text-align: right;\">4.00124e+07</td><td style=\"text-align: right;\">1.60099e+15</td><td style=\"text-align: right;\">2.52464e+07</td><td style=\"text-align: right;\">nan      </td></tr>\n",
       "<tr><td>DRF_1_AutoML_20181222_011454                       </td><td style=\"text-align: right;\">             1.63437e+15</td><td style=\"text-align: right;\">4.04273e+07</td><td style=\"text-align: right;\">1.63437e+15</td><td style=\"text-align: right;\">2.22624e+07</td><td style=\"text-align: right;\">  1.72738</td></tr>\n",
       "<tr><td>GBM_5_AutoML_20181222_011454                       </td><td style=\"text-align: right;\">             1.73445e+15</td><td style=\"text-align: right;\">4.16467e+07</td><td style=\"text-align: right;\">1.73445e+15</td><td style=\"text-align: right;\">2.38189e+07</td><td style=\"text-align: right;\">nan      </td></tr>\n",
       "<tr><td>GBM_grid_1_AutoML_20181222_011454_model_1          </td><td style=\"text-align: right;\">             4.8369e+15 </td><td style=\"text-align: right;\">6.95478e+07</td><td style=\"text-align: right;\">4.8369e+15 </td><td style=\"text-align: right;\">4.5378e+07 </td><td style=\"text-align: right;\">  2.80177</td></tr>\n",
       "<tr><td>GLM_grid_1_AutoML_20181222_011454_model_1          </td><td style=\"text-align: right;\">             5.00024e+15</td><td style=\"text-align: right;\">7.07123e+07</td><td style=\"text-align: right;\">5.00024e+15</td><td style=\"text-align: right;\">4.62526e+07</td><td style=\"text-align: right;\">  2.81789</td></tr>\n",
       "<tr><td>StackedEnsemble_AllModels_AutoML_20181222_011454   </td><td style=\"text-align: right;\">             5.00024e+15</td><td style=\"text-align: right;\">7.07123e+07</td><td style=\"text-align: right;\">5.00024e+15</td><td style=\"text-align: right;\">4.62526e+07</td><td style=\"text-align: right;\">  2.81789</td></tr>\n",
       "<tr><td>StackedEnsemble_BestOfFamily_AutoML_20181222_011454</td><td style=\"text-align: right;\">             5.00024e+15</td><td style=\"text-align: right;\">7.07123e+07</td><td style=\"text-align: right;\">5.00024e+15</td><td style=\"text-align: right;\">4.62526e+07</td><td style=\"text-align: right;\">  2.81789</td></tr>\n",
       "</tbody>\n",
       "</table>"
      ]
     },
     "metadata": {},
     "output_type": "display_data"
    },
    {
     "data": {
      "text/plain": []
     },
     "execution_count": 86,
     "metadata": {},
     "output_type": "execute_result"
    }
   ],
   "source": [
    "lb.head(rows=lb.nrows)"
   ]
  },
  {
   "cell_type": "markdown",
   "metadata": {},
   "source": [
    "# Ensemble Exploration"
   ]
  },
  {
   "cell_type": "markdown",
   "metadata": {},
   "source": [
    "To understand how the ensemble works, let's take a peek inside the Stacked Ensemble \"All Models\" model. The \"All Models\" ensemble is an ensemble of all of the individual models in the AutoML run. This is often the top performing model on the leaderboard."
   ]
  },
  {
   "cell_type": "code",
   "execution_count": 87,
   "metadata": {},
   "outputs": [],
   "source": [
    "# Get model ids for all models in the AutoML Leaderboard\n",
    "model_ids = list(aml.leaderboard['model_id'].as_data_frame().iloc[:,0])\n",
    "# Get the \"All Models\" Stacked Ensemble model\n",
    "se = h2o.get_model([mid for mid in model_ids if \"StackedEnsemble_AllModels\" in mid][0])\n",
    "# Get the Stacked Ensemble metalearner model\n",
    "metalearner = h2o.get_model(se.metalearner()['name'])"
   ]
  },
  {
   "cell_type": "code",
   "execution_count": 88,
   "metadata": {},
   "outputs": [
    {
     "data": {
      "text/plain": [
       "{'Intercept': 48661986.79739269,\n",
       " 'XRT_1_AutoML_20181222_011454': 0.09749876363510562,\n",
       " 'GBM_1_AutoML_20181222_011454': 0.08798991915607253,\n",
       " 'GBM_2_AutoML_20181222_011454': 0.08531349627639928,\n",
       " 'GBM_3_AutoML_20181222_011454': 0.0832546751503546,\n",
       " 'GBM_4_AutoML_20181222_011454': 0.08372885070385244,\n",
       " 'DeepLearning_1_AutoML_20181222_011454': 0.05372053415089743,\n",
       " 'DRF_1_AutoML_20181222_011454': 0.07021201874125398,\n",
       " 'GBM_5_AutoML_20181222_011454': 0.03752947514858861,\n",
       " 'GBM_grid_1_AutoML_20181222_011454_model_1': 0.017028650536849113,\n",
       " 'GLM_grid_1_AutoML_20181222_011454_model_1': 0.0}"
      ]
     },
     "execution_count": 88,
     "metadata": {},
     "output_type": "execute_result"
    }
   ],
   "source": [
    "metalearner.coef_norm()"
   ]
  },
  {
   "cell_type": "code",
   "execution_count": 89,
   "metadata": {},
   "outputs": [
    {
     "data": {
      "image/png": "[encoded data removed]",
      "text/plain": [
       "<Figure size 1008x720 with 1 Axes>"
      ]
     },
     "metadata": {
      "needs_background": "light"
     },
     "output_type": "display_data"
    }
   ],
   "source": [
    "%matplotlib inline\n",
    "metalearner.std_coef_plot()"
   ]
  },
  {
   "cell_type": "code",
   "execution_count": null,
   "metadata": {},
   "outputs": [],
   "source": []
  }
 ],
 "metadata": {
  "kernelspec": {
   "display_name": "Python 3",
   "language": "python",
   "name": "python3"
  },
  "language_info": {
   "codemirror_mode": {
    "name": "ipython",
    "version": 3
   },
   "file_extension": ".py",
   "mimetype": "text/x-python",
   "name": "python",
   "nbconvert_exporter": "python",
   "pygments_lexer": "ipython3",
   "version": "3.6.6"
  }
 },
 "nbformat": 4,
 "nbformat_minor": 2
}
